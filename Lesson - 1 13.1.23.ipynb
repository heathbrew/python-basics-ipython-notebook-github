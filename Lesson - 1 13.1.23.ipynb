{
  "nbformat": 4,
  "nbformat_minor": 0,
  "metadata": {
    "colab": {
      "provenance": []
    },
    "kernelspec": {
      "name": "python3",
      "display_name": "Python 3"
    },
    "language_info": {
      "name": "python"
    }
  },
  "cells": [
    {
      "cell_type": "markdown",
      "source": [
        "**Class 1**\n",
        "\n"
      ],
      "metadata": {
        "id": "OYENp6d-NpxD"
      }
    },
    {
      "cell_type": "code",
      "source": [
        "# Variable -> data container\n",
        "num1=10\n",
        "print(num1)\n",
        "# #num1=\n",
        "# @num1=\n",
        "# Num1=\n",
        "# -num1-=\n",
        "# _num1_=\n",
        "# -Num1_=\n",
        "\n"
      ],
      "metadata": {
        "colab": {
          "base_uri": "https://localhost:8080/",
          "height": 130
        },
        "id": "RzrvBubZN2T_",
        "outputId": "8e83b3f8-6a8d-477e-a028-ba032cd9c148"
      },
      "execution_count": null,
      "outputs": [
        {
          "output_type": "error",
          "ename": "SyntaxError",
          "evalue": "ignored",
          "traceback": [
            "\u001b[0;36m  File \u001b[0;32m\"<ipython-input-1-9a79d5d9d5d9>\"\u001b[0;36m, line \u001b[0;32m5\u001b[0m\n\u001b[0;31m    @num1=\u001b[0m\n\u001b[0m         ^\u001b[0m\n\u001b[0;31mSyntaxError\u001b[0m\u001b[0;31m:\u001b[0m invalid syntax\n"
          ]
        }
      ]
    },
    {
      "cell_type": "code",
      "source": [
        "# Datatype -> type of the data which is stored inside a variable\n",
        "# Int -> wholenumber doesn't contain a decimal number\n",
        "num=10\n",
        "print(num)\n",
        "print(type(num))"
      ],
      "metadata": {
        "colab": {
          "base_uri": "https://localhost:8080/"
        },
        "id": "-jPmUqQWPhfl",
        "outputId": "0fe7b5c1-b668-4d26-9fb0-6a11ec439f1e"
      },
      "execution_count": null,
      "outputs": [
        {
          "output_type": "stream",
          "name": "stdout",
          "text": [
            "10\n",
            "<class 'int'>\n"
          ]
        }
      ]
    },
    {
      "cell_type": "code",
      "source": [
        "# float -> decimal number\n",
        "num1=345.4\n",
        "print(num1)\n",
        "print(type(num1))\n"
      ],
      "metadata": {
        "colab": {
          "base_uri": "https://localhost:8080/"
        },
        "id": "SyXXEwJhQ00i",
        "outputId": "6c01836b-164e-4d9d-a7ae-82ed8a4ec89a"
      },
      "execution_count": null,
      "outputs": [
        {
          "output_type": "stream",
          "name": "stdout",
          "text": [
            "345.4\n",
            "<class 'float'>\n"
          ]
        }
      ]
    },
    {
      "cell_type": "code",
      "source": [
        "# add\n",
        "num2=123\n",
        "num3=23.45\n",
        "num4=num2+num3\n",
        "print(num4)"
      ],
      "metadata": {
        "colab": {
          "base_uri": "https://localhost:8080/"
        },
        "id": "Wqq8c2mHRrjL",
        "outputId": "ca1a646f-edf6-4ae7-9ff8-59ca875bd07a"
      },
      "execution_count": null,
      "outputs": [
        {
          "output_type": "stream",
          "name": "stdout",
          "text": [
            "146.45\n"
          ]
        }
      ]
    },
    {
      "cell_type": "code",
      "source": [
        "# String ->set of characters written in a single or double quotation is string\n",
        "name='Introduction to Python'\n",
        "print(name)\n",
        "print(type(name))\n"
      ],
      "metadata": {
        "colab": {
          "base_uri": "https://localhost:8080/"
        },
        "id": "st0_5EbcSoKj",
        "outputId": "dd0a7909-732f-41a8-df47-9a82d3552e7d"
      },
      "execution_count": null,
      "outputs": [
        {
          "output_type": "stream",
          "name": "stdout",
          "text": [
            "Introduction to Python\n",
            "<class 'str'>\n"
          ]
        }
      ]
    },
    {
      "cell_type": "code",
      "source": [
        "# Boolean -> true or false\n",
        "print(3<7)\n"
      ],
      "metadata": {
        "colab": {
          "base_uri": "https://localhost:8080/"
        },
        "id": "2j_VXPx_TCKT",
        "outputId": "49bd6a11-5490-4494-fa95-38f2be802940"
      },
      "execution_count": null,
      "outputs": [
        {
          "output_type": "stream",
          "name": "stdout",
          "text": [
            "True\n"
          ]
        }
      ]
    },
    {
      "cell_type": "code",
      "source": [
        "# concatenation\n",
        "num1=100\n",
        "num2=34.345\n",
        "print('The addition of two values are',(num1+num2))\n"
      ],
      "metadata": {
        "colab": {
          "base_uri": "https://localhost:8080/"
        },
        "id": "blhU40QETSP2",
        "outputId": "7669cf08-5559-49e7-f25b-82d120abb642"
      },
      "execution_count": null,
      "outputs": [
        {
          "output_type": "stream",
          "name": "stdout",
          "text": [
            "The addition of two values are 134.345\n"
          ]
        }
      ]
    },
    {
      "cell_type": "code",
      "source": [
        "#concatenation\n",
        "name1='hello'\n",
        "name2='world'\n",
        "print(name1 , name2)\n"
      ],
      "metadata": {
        "colab": {
          "base_uri": "https://localhost:8080/"
        },
        "id": "e_HQxmknUTJH",
        "outputId": "32cc5f3f-20e9-4b35-9a2b-190a858d1327"
      },
      "execution_count": null,
      "outputs": [
        {
          "output_type": "stream",
          "name": "stdout",
          "text": [
            "hello world\n"
          ]
        }
      ]
    },
    {
      "cell_type": "code",
      "source": [
        "name=\"Tom\"\n",
        "print('My favorite cartoon name is',name)"
      ],
      "metadata": {
        "colab": {
          "base_uri": "https://localhost:8080/"
        },
        "id": "f-XqdoLfUdie",
        "outputId": "959272a4-f1e2-4f59-b6e8-66c9ed80999f"
      },
      "execution_count": null,
      "outputs": [
        {
          "output_type": "stream",
          "name": "stdout",
          "text": [
            "My favorite cartoon name is Tom\n"
          ]
        }
      ]
    },
    {
      "cell_type": "code",
      "source": [
        "x=int(input(\"Enter the value:\"))\n",
        "y=int(input(\"Enter the second value:\"))\n",
        "print(\"The difference of to values are\",(x-y))\n",
        "print(type(x))\n",
        "print(type(y))\n"
      ],
      "metadata": {
        "colab": {
          "base_uri": "https://localhost:8080/"
        },
        "id": "y5YitnsDUkj1",
        "outputId": "10d8a350-27b4-40e1-8410-017a086e2713"
      },
      "execution_count": null,
      "outputs": [
        {
          "output_type": "stream",
          "name": "stdout",
          "text": [
            "Enter the value:1\n",
            "Enter the second value:1\n",
            "The difference of to values are 0\n",
            "<class 'int'>\n",
            "<class 'int'>\n"
          ]
        }
      ]
    },
    {
      "cell_type": "code",
      "source": [
        "num1=345.6\n",
        "num2= 5670\n",
        "print(' the addition of 2 values are',(num1+num2))\n",
        "num5 = int(input(\"enter the first value:\"))\n",
        "print(\" the difference is \",(num2+num5))\n",
        "1"
      ],
      "metadata": {
        "colab": {
          "base_uri": "https://localhost:8080/"
        },
        "id": "F4XTM40kWVNz",
        "outputId": "3eeef6e7-8688-4d09-b1f4-7fc57f7b8f2e"
      },
      "execution_count": null,
      "outputs": [
        {
          "output_type": "stream",
          "name": "stdout",
          "text": [
            " the addition of 2 values are 6015.6\n",
            "enter the first value:1\n",
            " the difference is  5671\n"
          ]
        }
      ]
    },
    {
      "cell_type": "code",
      "source": [
        "x=float(input('enter value:'))\n",
        "y=float(input('enter value:'))\n",
        "z=float(input('enter value'))\n",
        "print('the solution is ',((x+y)/z))\n"
      ],
      "metadata": {
        "colab": {
          "base_uri": "https://localhost:8080/"
        },
        "id": "D7VQkN_GWpij",
        "outputId": "0a72f4e4-8838-4e71-9a64-dab4d963a5d6"
      },
      "execution_count": null,
      "outputs": [
        {
          "output_type": "stream",
          "name": "stdout",
          "text": [
            "enter value:1\n",
            "enter value:1\n",
            "enter value1\n",
            "the solution is  2.0\n"
          ]
        }
      ]
    },
    {
      "cell_type": "code",
      "source": [
        "X=int(input('Enter a number : '))\n",
        "Y=int(input('Enter another number : '))\n",
        "Sum=X+Y\n",
        "Difference=X-Y\n",
        "print('The sum and difference are ',Sum,' and ',Difference, ' respectively.')\n"
      ],
      "metadata": {
        "colab": {
          "base_uri": "https://localhost:8080/"
        },
        "id": "5tEWvmlSW1E3",
        "outputId": "6b578c1f-d489-4f5e-c0a7-0a697b66aaf1"
      },
      "execution_count": null,
      "outputs": [
        {
          "output_type": "stream",
          "name": "stdout",
          "text": [
            "Enter a number : 10\n",
            "Enter another number : 0\n",
            "The sum and difference are  10  and  10  respectively.\n"
          ]
        }
      ]
    }
  ]
}